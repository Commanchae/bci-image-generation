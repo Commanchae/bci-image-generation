{
 "cells": [
  {
   "cell_type": "code",
   "execution_count": 1,
   "metadata": {},
   "outputs": [],
   "source": [
    "import torch\n",
    "import torch.nn as nn\n",
    "from matplotlib import pyplot as plt"
   ]
  },
  {
   "cell_type": "code",
   "execution_count": 2,
   "metadata": {},
   "outputs": [],
   "source": [
    "EPOCHS = 200\n",
    "LEARNING_RATE = 0.005\n",
    "BATCH_SIZE = 2\n"
   ]
  },
  {
   "cell_type": "markdown",
   "metadata": {},
   "source": [
    "## Dataset"
   ]
  },
  {
   "cell_type": "code",
   "execution_count": 3,
   "metadata": {},
   "outputs": [],
   "source": [
    "from utils import ImageGenerationDataset\n",
    "from torch.utils.data import random_split, DataLoader\n",
    "import torchvision.transforms as transforms\n",
    "from sklearn.preprocessing import StandardScaler"
   ]
  },
  {
   "cell_type": "code",
   "execution_count": 4,
   "metadata": {},
   "outputs": [],
   "source": [
    "train_dataset = ImageGenerationDataset('data/train')\n",
    "train_dataloader = DataLoader(train_dataset, batch_size=BATCH_SIZE, shuffle=True)\n",
    "test_dataset = ImageGenerationDataset('data/test')"
   ]
  },
  {
   "cell_type": "code",
   "execution_count": 5,
   "metadata": {},
   "outputs": [],
   "source": [
    "normalizers = []"
   ]
  },
  {
   "cell_type": "code",
   "execution_count": 6,
   "metadata": {},
   "outputs": [],
   "source": [
    "scaled_X_train = torch.zeros_like(train_dataset.X)\n",
    "scaled_X_test = torch.zeros_like(test_dataset.X)\n",
    "\n",
    "for channel in range(0, 4):\n",
    "    normalizer = StandardScaler()\n",
    "    normalizer.fit(train_dataset.X[:, channel, :])\n",
    "\n",
    "    scaled_X_train[:, channel, :] = torch.from_numpy(normalizer.transform(train_dataset.X[:, channel, :]))\n",
    "    scaled_X_test [:, channel, :] = torch.from_numpy(normalizer.transform(test_dataset.X[:, channel, :]))\n",
    "\n",
    "train_dataset.X = scaled_X_train\n",
    "test_dataset.X = scaled_X_test\n",
    "\n",
    "    "
   ]
  },
  {
   "cell_type": "code",
   "execution_count": 7,
   "metadata": {},
   "outputs": [],
   "source": [
    "train_dataloader = DataLoader(train_dataset, batch_size=BATCH_SIZE, shuffle=True)\n",
    "test_dataloader = DataLoader(test_dataset, batch_size=BATCH_SIZE, shuffle=True)"
   ]
  },
  {
   "cell_type": "markdown",
   "metadata": {},
   "source": [
    "## Training"
   ]
  },
  {
   "cell_type": "code",
   "execution_count": 8,
   "metadata": {},
   "outputs": [],
   "source": [
    "from net import ImageGenerator"
   ]
  },
  {
   "cell_type": "markdown",
   "metadata": {},
   "source": [
    "### Objects"
   ]
  },
  {
   "cell_type": "code",
   "execution_count": 9,
   "metadata": {},
   "outputs": [],
   "source": [
    "model = ImageGenerator()\n",
    "optimizer = torch.optim.SGD(model.parameters(), lr=LEARNING_RATE,momentum=0.9)\n",
    "loss_fn = torch.nn.L1Loss()"
   ]
  },
  {
   "cell_type": "markdown",
   "metadata": {},
   "source": [
    "### Training Loop"
   ]
  },
  {
   "cell_type": "code",
   "execution_count": 10,
   "metadata": {},
   "outputs": [
    {
     "name": "stderr",
     "output_type": "stream",
     "text": [
      "c:\\Users\\Taylor\\Desktop\\Projects\\BCI\\GitHub Projects\\bci-image-generation\\venv\\Lib\\site-packages\\torch\\nn\\modules\\loss.py:101: UserWarning: Using a target size (torch.Size([2, 32, 32])) that is different to the input size (torch.Size([2, 1, 32, 32])). This will likely lead to incorrect results due to broadcasting. Please ensure they have the same size.\n",
      "  return F.l1_loss(input, target, reduction=self.reduction)\n"
     ]
    },
    {
     "name": "stdout",
     "output_type": "stream",
     "text": [
      "Epoch 9\n",
      "In-sample Loss: 10.249525435268879\n",
      "Validation Loss:  1.835259035229683\n",
      "Epoch 19\n",
      "In-sample Loss: 10.105073645710945\n",
      "Validation Loss:  1.8231199607253075\n",
      "Epoch 29\n",
      "In-sample Loss: 10.03059259802103\n",
      "Validation Loss:  1.8264147862792015\n",
      "Epoch 39\n",
      "In-sample Loss: 9.973966211080551\n",
      "Validation Loss:  1.8340523838996887\n",
      "Epoch 49\n",
      "In-sample Loss: 9.828276723623276\n",
      "Validation Loss:  1.838813729584217\n",
      "Epoch 59\n",
      "In-sample Loss: 9.768054500222206\n",
      "Validation Loss:  1.8597441166639328\n",
      "Epoch 69\n",
      "In-sample Loss: 9.685322053730488\n",
      "Validation Loss:  1.8394984379410744\n",
      "Epoch 79\n",
      "In-sample Loss: 9.520643278956413\n",
      "Validation Loss:  1.8756857067346573\n",
      "Epoch 89\n",
      "In-sample Loss: 9.531157076358795\n",
      "Validation Loss:  1.8881105035543442\n",
      "Epoch 99\n",
      "In-sample Loss: 9.130962580442429\n",
      "Validation Loss:  1.911018431186676\n",
      "Epoch 109\n",
      "In-sample Loss: 9.314307913184166\n",
      "Validation Loss:  1.874701701104641\n",
      "Epoch 119\n",
      "In-sample Loss: 9.376854747533798\n",
      "Validation Loss:  1.9860739558935165\n",
      "Epoch 129\n",
      "In-sample Loss: 9.242431536316872\n",
      "Validation Loss:  1.9856508523225784\n",
      "Epoch 139\n",
      "In-sample Loss: 9.00880304723978\n",
      "Validation Loss:  1.9959873631596565\n",
      "Epoch 149\n",
      "In-sample Loss: 9.012372016906738\n",
      "Validation Loss:  1.9645981639623642\n",
      "Epoch 159\n",
      "In-sample Loss: 8.796151600778103\n",
      "Validation Loss:  1.929999753832817\n",
      "Epoch 169\n",
      "In-sample Loss: 8.523487944155931\n",
      "Validation Loss:  2.0098298341035843\n",
      "Epoch 179\n",
      "In-sample Loss: 8.777790181338787\n",
      "Validation Loss:  1.9364341050386429\n",
      "Epoch 189\n",
      "In-sample Loss: 8.571410737931728\n",
      "Validation Loss:  1.9413428902626038\n",
      "Epoch 199\n",
      "In-sample Loss: 8.570935986936092\n",
      "Validation Loss:  2.0911585688591003\n"
     ]
    }
   ],
   "source": [
    "model.train(True)\n",
    "\n",
    "loss_lst = []\n",
    "valid_loss_lst = []\n",
    "for epoch in range(EPOCHS):\n",
    "    epoch_loss = 0.0\n",
    "    model.train()\n",
    "    seq = 0\n",
    "    for i, (features, targets) in enumerate(train_dataloader):\n",
    "        optimizer.zero_grad()\n",
    "\n",
    "        features = features.float()\n",
    "        targets = targets.float()\n",
    "        \n",
    "        outputs = model(features)\n",
    "\n",
    "        loss = loss_fn(outputs, targets)\n",
    "        loss.backward()\n",
    "\n",
    "        epoch_loss += loss.item()\n",
    "        optimizer.step()\n",
    "\n",
    "        seq += features.shape[0]\n",
    "    loss_lst.append(epoch_loss / seq)\n",
    "    model.eval()\n",
    "    validation_loss = 0.0\n",
    "    seq = 0\n",
    "    for i, (features, targets) in enumerate(test_dataloader):\n",
    "        features = features.float()\n",
    "        targets = targets.float()\n",
    "        \n",
    "        outputs = model(features)\n",
    "        loss = loss_fn(outputs, targets)\n",
    "        validation_loss += loss.item()\n",
    "        seq += features.shape[0]\n",
    "    if (epoch + 1) % 10 == 0:\n",
    "        print('Epoch', epoch)\n",
    "        print(\"In-sample Loss:\", epoch_loss)\n",
    "        print(\"Validation Loss: \", validation_loss)\n",
    "    valid_loss_lst.append(validation_loss / seq)\n",
    "    \n",
    "    \n",
    "    "
   ]
  },
  {
   "cell_type": "code",
   "execution_count": 11,
   "metadata": {},
   "outputs": [
    {
     "data": {
      "text/plain": [
       "<matplotlib.legend.Legend at 0x237d0e2e0c0>"
      ]
     },
     "execution_count": 11,
     "metadata": {},
     "output_type": "execute_result"
    },
    {
     "data": {
      "image/png": "[encoded data removed]",
      "text/plain": [
       "<Figure size 640x480 with 1 Axes>"
      ]
     },
     "metadata": {},
     "output_type": "display_data"
    }
   ],
   "source": [
    "plt.plot(loss_lst)\n",
    "plt.plot(valid_loss_lst) \n",
    "plt.legend(['Training Loss', 'Validation Loss'], )"
   ]
  },
  {
   "cell_type": "code",
   "execution_count": 12,
   "metadata": {},
   "outputs": [],
   "source": [
    "import torchvision.transforms as transforms\n",
    "from PIL import Image"
   ]
  },
  {
   "cell_type": "code",
   "execution_count": 13,
   "metadata": {},
   "outputs": [],
   "source": [
    "# https://note.nkmk.me/en/python-pillow-concat-images/\n",
    "def get_concat_h(im1, im2):\n",
    "    dst = Image.new('L', (im1.width + im2.width, im1.height))\n",
    "    dst.paste(im1, (0, 0))\n",
    "    dst.paste(im2, (im1.width, 0))\n",
    "    return dst\n",
    "\n",
    "def get_concat_v(im1, im2):\n",
    "    dst = Image.new('L', (im1.width, im1.height + im2.height))\n",
    "    dst.paste(im1, (0, 0))\n",
    "    dst.paste(im2, (0, im1.height))\n",
    "    return dst"
   ]
  },
  {
   "cell_type": "code",
   "execution_count": 14,
   "metadata": {},
   "outputs": [],
   "source": [
    "PIL_transform = transforms.ToPILImage()"
   ]
  },
  {
   "cell_type": "code",
   "execution_count": 15,
   "metadata": {},
   "outputs": [],
   "source": [
    "train_true_images = None\n",
    "train_output_images = None\n",
    "\n",
    "for train_f, train_t in train_dataloader:\n",
    "    train_f = train_f.float()\n",
    "    output = model(train_f)\n",
    "\n",
    "    for b in range(output.shape[0]):\n",
    "        output_img = output[b]\n",
    "        output_img = PIL_transform(output_img)\n",
    "\n",
    "        true_img = train_t[b]\n",
    "        true_img = PIL_transform(true_img)\n",
    "\n",
    "        if train_true_images is None and train_output_images is None:\n",
    "            train_true_images = true_img\n",
    "            train_output_images = output_img\n",
    "        else:\n",
    "            train_true_images = get_concat_h(train_true_images, true_img)\n",
    "            train_output_images = get_concat_h(train_output_images, output_img)\n",
    "train_images = get_concat_v(train_true_images, train_output_images)\n",
    "\n",
    "\n"
   ]
  },
  {
   "cell_type": "code",
   "execution_count": 16,
   "metadata": {},
   "outputs": [],
   "source": [
    "test_true_images = None\n",
    "test_output_images = None\n",
    "\n",
    "for test_f, test_t in test_dataloader:\n",
    "    test_f = test_f.float()\n",
    "    output = model(test_f)\n",
    "\n",
    "    for b in range(output.shape[0]):\n",
    "        output_img = output[b]\n",
    "        output_img = PIL_transform(output_img)\n",
    "\n",
    "        test_img = test_t[b]\n",
    "        test_img = PIL_transform(test_img)\n",
    "\n",
    "        if test_true_images is None and test_output_images is None:\n",
    "            test_true_images = test_img\n",
    "            test_output_images = output_img\n",
    "        else:\n",
    "            test_true_images = get_concat_h(test_true_images, test_img)\n",
    "            test_output_images = get_concat_h(test_output_images, output_img)\n",
    "test_images = get_concat_v(test_true_images, test_output_images)\n"
   ]
  },
  {
   "cell_type": "code",
   "execution_count": 17,
   "metadata": {},
   "outputs": [],
   "source": [
    "train_images.show()\n",
    "test_images.show()"
   ]
  },
  {
   "cell_type": "code",
   "execution_count": 18,
   "metadata": {},
   "outputs": [
    {
     "name": "stdout",
     "output_type": "stream",
     "text": [
      "Completed.\n"
     ]
    }
   ],
   "source": [
    "print('Completed.')"
   ]
  },
  {
   "cell_type": "code",
   "execution_count": null,
   "metadata": {},
   "outputs": [],
   "source": []
  }
 ],
 "metadata": {
  "kernelspec": {
   "display_name": "venv",
   "language": "python",
   "name": "python3"
  },
  "language_info": {
   "codemirror_mode": {
    "name": "ipython",
    "version": 3
   },
   "file_extension": ".py",
   "mimetype": "text/x-python",
   "name": "python",
   "nbconvert_exporter": "python",
   "pygments_lexer": "ipython3",
   "version": "3.12.1"
  }
 },
 "nbformat": 4,
 "nbformat_minor": 2
}
